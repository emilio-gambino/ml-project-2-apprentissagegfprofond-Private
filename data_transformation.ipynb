{
 "cells": [
  {
   "cell_type": "code",
   "execution_count": null,
   "id": "ce0c6a86",
   "metadata": {},
   "outputs": [],
   "source": [
    "import tensorflow as tf\n",
    "from keras.preprocessing.image import ImageDataGenerator\n",
    "from keras.utils import img_to_array\n",
    "\n",
    "from numpy import expand_dims\n",
    "import zipfile\n",
    "from zipfile import ZipFile\n",
    "\n",
    "import numpy as np\n",
    "import pandas as pd\n",
    "import csv\n",
    "import cv2\n",
    "from PIL import Image"
   ]
  },
  {
   "cell_type": "markdown",
   "id": "30b064e9",
   "metadata": {},
   "source": [
    "Perform data augmentation (rotation, flip) of images with label 1. "
   ]
  },
  {
   "cell_type": "code",
   "execution_count": null,
   "id": "96a4e196",
   "metadata": {},
   "outputs": [],
   "source": [
    "main_dir = \"/Users/dalilkoheeallee/Desktop\"\n",
    "extracted_dir = main_dir + \"/extracted_images\"\n",
    "image_dir = extracted_dir +  \"/train/\"\n",
    "augmented_image_dir = main_dir + '/augmented/'\n",
    "zip_file_name = 'train.zip'\n",
    "csv_file_name = 'train.csv'"
   ]
  },
  {
   "cell_type": "code",
   "execution_count": null,
   "id": "fb350958",
   "metadata": {},
   "outputs": [],
   "source": [
    "with ZipFile(zip_file_name,'r') as myzip:\n",
    "    myzip.extractall(extracted_dir)\n",
    "    with open(csv_file_name, mode ='r') as file:\n",
    "\n",
    "        csvFile = csv.reader(file)  \n",
    "        for lines in csvFile:\n",
    "            filename = lines[0]\n",
    "            begin_idx = filename.index(\"Image\")\n",
    "            prefix = filename[begin_idx:]\n",
    "            prefix = prefix[:-4]\n",
    "            label = int(lines[1])\n",
    "\n",
    "            img = cv2.imread(image_dir+filename, cv2.IMREAD_GRAYSCALE)\n",
    "            dataImage = img_to_array(img)\n",
    "\n",
    "            if label == 0:\n",
    "                name_new_image = str(label)+\"_\"+prefix+\"_\"+\".png\"\n",
    "                pil0_img = tf.keras.utils.array_to_img(dataImage, scale=False, dtype=\"uint8\")\n",
    "                pil0_img.save(augmented_image_dir + name_new_image)\n",
    "\n",
    "            else :\n",
    "                imageNew = expand_dims(dataImage, 0)\n",
    "\n",
    "                imageDataGen = ImageDataGenerator(\n",
    "                    rotation_range=0.25,\n",
    "                    horizontal_flip = True,\n",
    "                    vertical_flip=True,\n",
    "                    dtype=np.uint8)\n",
    "\n",
    "                iterator = imageDataGen.flow(imageNew, batch_size=1)\n",
    "\n",
    "                for i in range(3):\n",
    "                    batch = iterator.next()\n",
    "                    image = batch[0]\n",
    "                    pil1_img = tf.keras.utils.array_to_img(image, scale=False, dtype=\"uint8\")\n",
    "                    name_new_image = str(label)+\"_\"+prefix+\"_\"+str(i)+\".png\"\n",
    "                    pil1_img.save(augmented_image_dir + name_new_image)\n"
   ]
  },
  {
   "cell_type": "markdown",
   "id": "f3ede05d",
   "metadata": {},
   "source": [
    "Then apply maker_csv on the augmented_image_dir"
   ]
  },
  {
   "cell_type": "markdown",
   "id": "0b71e1ee",
   "metadata": {},
   "source": [
    "Tranform test images from uint16 to uint8, to be consistent with format of augmented train set."
   ]
  },
  {
   "cell_type": "code",
   "execution_count": null,
   "id": "9d16b60b",
   "metadata": {},
   "outputs": [],
   "source": [
    "extracted_dir_test = main_dir + \"/extracted_images_test\"\n",
    "image_dir_test = extracted_dir_test +  \"/test/\"\n",
    "augmented_image_dir_test = main_dir + '/augmented2/'\n",
    "zip_file_name_test = 'test.zip'\n",
    "csv_file_name_test = 'test.csv'"
   ]
  },
  {
   "cell_type": "code",
   "execution_count": null,
   "id": "594dc073",
   "metadata": {},
   "outputs": [],
   "source": [
    "with ZipFile(zip_file_name_test,'r') as myzip:\n",
    "    myzip.extractall(extracted_dir_test)\n",
    "    with open(csv_file_name_test, mode ='r') as file:\n",
    "\n",
    "        csvFile = csv.reader(file)  \n",
    "        for lines in csvFile:\n",
    "            filename = lines[0]\n",
    "            \n",
    "\n",
    "            img = cv2.imread(image_dir_test+filename, cv2.IMREAD_GRAYSCALE)\n",
    "            dataImage = img_to_array(img)\n",
    "\n",
    "            pil0_img = tf.keras.utils.array_to_img(dataImage, scale=False, dtype=\"uint8\")\n",
    "            pil0_img.save(augmented_image_dir_test+filename)"
   ]
  },
  {
   "cell_type": "markdown",
   "id": "fa85ca71",
   "metadata": {},
   "source": [
    "Add noise to data and perform data augmentation on label 1."
   ]
  },
  {
   "cell_type": "code",
   "execution_count": null,
   "id": "f90ad597",
   "metadata": {},
   "outputs": [],
   "source": [
    "noisy_image_dir = main_dir + '/augmented_noise/'\n",
    "\n",
    "def add_noise(image):\n",
    "  # Add Gaussian noise to the image\n",
    "      noise = np.random.normal(0,np.std(image)/5 , image.shape)\n",
    "      return image + noise\n",
    "\n",
    "\n",
    "with open(csv_file_name, mode ='r') as file:\n",
    "\n",
    "        csvFile = csv.reader(file)  \n",
    "        for lines in csvFile:\n",
    "            filename = lines[0]\n",
    "            begin_idx = filename.index(\"Image\")\n",
    "            prefix = filename[begin_idx:]\n",
    "            prefix = prefix[:-4]\n",
    "            label = int(lines[1])\n",
    "\n",
    "            img = cv2.imread(image_dir+filename, cv2.IMREAD_GRAYSCALE)\n",
    "            dataImage = img_to_array(img)\n",
    "\n",
    "            if label == 0:\n",
    "                imageNew = expand_dims(dataImage, 0)\n",
    "\n",
    "                imageDataGen = ImageDataGenerator(\n",
    "                    preprocessing_function=add_noise,\n",
    "                    dtype=np.uint8)\n",
    "\n",
    "                iterator = imageDataGen.flow(imageNew, batch_size=1)\n",
    "\n",
    "                batch = iterator.next()\n",
    "                image = batch[0]\n",
    "                pil_img = tf.keras.utils.array_to_img(image, scale=False, dtype=\"uint8\")\n",
    "                name_new_image = str(label)+\"_\"+prefix+\"_\"+\".png\"\n",
    "                pil_img.save(noisy_image_dir+name_new_image)\n",
    "\n",
    "            else :\n",
    "                imageNew = expand_dims(dataImage, 0)\n",
    "\n",
    "                imageDataGen = ImageDataGenerator(\n",
    "                    rotation_range=0.25,\n",
    "                    horizontal_flip = True,\n",
    "                    vertical_flip=True,\n",
    "                    preprocessing_function=add_noise,\n",
    "                    dtype=np.uint8)\n",
    "\n",
    "                iterator = imageDataGen.flow(imageNew, batch_size=1)\n",
    "\n",
    "                for i in range(3):\n",
    "                    batch = iterator.next()\n",
    "                    image = batch[0]\n",
    "                    pil_img = tf.keras.utils.array_to_img(image, scale=False, dtype=\"uint8\")\n",
    "                    name_new_image = str(label)+\"_\"+prefix+\"_\"+str(i)+\".png\"\n",
    "                    pil_img.save(noisy_image_dir+name_new_image)\n",
    "\n",
    "                "
   ]
  },
  {
   "cell_type": "markdown",
   "id": "e195d43a",
   "metadata": {},
   "source": [
    "Separate train dataset in 75% training and 25% validation. Augmentation with flip and rotation for training."
   ]
  },
  {
   "cell_type": "code",
   "execution_count": null,
   "id": "2ae870b1",
   "metadata": {},
   "outputs": [],
   "source": [
    "df = pd.read_csv('train.csv')\n",
    "\n",
    "np.random.seed(42)\n",
    "\n",
    "df = df.sample(frac=1)\n",
    "\n",
    "num_rows = df.shape[0]\n",
    "split_point = int(num_rows * 0.75)\n",
    "\n",
    "df1 = df.iloc[:split_point]\n",
    "df2 = df.iloc[split_point:]\n",
    "\n",
    "df1.to_csv('train_75.csv', index=False)\n",
    "df2.to_csv('validation_25.csv', index=False)"
   ]
  },
  {
   "cell_type": "code",
   "execution_count": null,
   "id": "6f78f762",
   "metadata": {},
   "outputs": [],
   "source": [
    "main_dir = \"/Users/dalilkoheeallee/Desktop\"\n",
    "extracted_dir = main_dir + \"/extracted_images\"\n",
    "image_dir = extracted_dir +  \"/train/\"\n",
    "augmented75_image_dir = main_dir + '/augmented75/'\n",
    "validation_image_dir = main_dir + '/validation/'\n",
    "zip_file_name = 'train.zip'\n",
    "csv_file_name75 = 'train_75.csv'\n",
    "csv_file_name25 = 'validation_25.csv'"
   ]
  },
  {
   "cell_type": "code",
   "execution_count": null,
   "id": "9122cd95",
   "metadata": {},
   "outputs": [],
   "source": [
    "with open(csv_file_name75, mode ='r') as file:\n",
    "\n",
    "        csvFile = csv.reader(file)  \n",
    "        for lines in csvFile:\n",
    "            filename = lines[0]\n",
    "            begin_idx = filename.index(\"Image\")\n",
    "            prefix = filename[begin_idx:]\n",
    "            prefix = prefix[:-4]\n",
    "            label = int(lines[1])\n",
    "\n",
    "            img = cv2.imread(image_dir+filename, cv2.IMREAD_GRAYSCALE)\n",
    "            dataImage = img_to_array(img)\n",
    "\n",
    "            if label == 0:\n",
    "                name_new_image = str(label)+\"_\"+prefix+\"_\"+\".png\"\n",
    "                pil0_img = tf.keras.utils.array_to_img(dataImage, scale=False, dtype=\"uint8\")\n",
    "                pil0_img.save(augmented75_image_dir + name_new_image)\n",
    "\n",
    "            else :\n",
    "                imageNew = expand_dims(dataImage, 0)\n",
    "\n",
    "                imageDataGen = ImageDataGenerator(\n",
    "                    rotation_range=0.25,\n",
    "                    horizontal_flip = True,\n",
    "                    vertical_flip=True,\n",
    "                    dtype=np.uint8)\n",
    "\n",
    "                iterator = imageDataGen.flow(imageNew, batch_size=1)\n",
    "\n",
    "                for i in range(10):\n",
    "                    batch = iterator.next()\n",
    "                    image = batch[0]\n",
    "                    pil1_img = tf.keras.utils.array_to_img(image, scale=False, dtype=\"uint8\")\n",
    "                    name_new_image = str(label)+\"_\"+prefix+\"_\"+str(i)+\".png\"\n",
    "                    pil1_img.save(augmented75_image_dir + name_new_image)"
   ]
  },
  {
   "cell_type": "code",
   "execution_count": null,
   "id": "ba56a528",
   "metadata": {},
   "outputs": [],
   "source": [
    "with open(csv_file_name25, mode ='r') as file:\n",
    "\n",
    "        csvFile = csv.reader(file)  \n",
    "        for lines in csvFile:\n",
    "            filename = lines[0]\n",
    "            \n",
    "\n",
    "            img = cv2.imread(image_dir+filename, cv2.IMREAD_GRAYSCALE)\n",
    "            dataImage = img_to_array(img)\n",
    "\n",
    "            pil0_img = tf.keras.utils.array_to_img(dataImage, scale=False, dtype=\"uint8\")\n",
    "            pil0_img.save(validation_image_dir+filename)"
   ]
  },
  {
   "cell_type": "markdown",
   "id": "5b5abe41",
   "metadata": {},
   "source": [
    "Then apply maker_csv on the augmented75_image_dir"
   ]
  }
 ],
 "metadata": {
  "kernelspec": {
   "display_name": "firstEnv",
   "language": "python",
   "name": "firstenv"
  },
  "language_info": {
   "codemirror_mode": {
    "name": "ipython",
    "version": 3
   },
   "file_extension": ".py",
   "mimetype": "text/x-python",
   "name": "python",
   "nbconvert_exporter": "python",
   "pygments_lexer": "ipython3",
   "version": "3.10.8"
  }
 },
 "nbformat": 4,
 "nbformat_minor": 5
}

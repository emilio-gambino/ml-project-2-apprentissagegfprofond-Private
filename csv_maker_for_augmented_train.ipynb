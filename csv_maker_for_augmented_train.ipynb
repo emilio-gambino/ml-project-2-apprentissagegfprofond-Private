{
 "cells": [
  {
   "cell_type": "code",
   "execution_count": 6,
   "id": "5c66be78",
   "metadata": {},
   "outputs": [],
   "source": [
    "import os\n",
    "import csv\n",
    "import glob\n",
    "\n",
    "# Directory containing the images\n",
    "image_dir = '/Users/dalilkoheeallee/Desktop/augmented/'\n",
    "\n",
    "# List of image titles from filenames in the directory\n",
    "image_titles = glob.glob(image_dir + '*.png')\n",
    "\n",
    "# List of image dictionaries, each containing information about a single image\n",
    "images = []\n",
    "\n",
    "# Create a dictionary for each image containing the full title and the first string of the title\n",
    "for title in image_titles:\n",
    "    title = title.lstrip(image_dir)\n",
    "    first_string = title.split('_')[0]  # split the title on the underscore and take the first string\n",
    "    images.append({\n",
    "        'name': title,\n",
    "        'label': 1 if first_string == '1' else 0\n",
    "    })\n",
    "\n",
    "# Open a CSV file for writing\n",
    "with open('augmented_train_csv.csv', 'w', newline='') as csvfile:\n",
    "    # Create a CSV writer\n",
    "    writer = csv.DictWriter(csvfile, fieldnames=['name', 'label'])\n",
    "    \n",
    "    # Write the column headers to the CSV file\n",
    "    #writer.writeheader()\n",
    "    \n",
    "    # Write the image dictionaries to the CSV file\n",
    "    for image in images:\n",
    "        writer.writerow(image)\n"
   ]
  }
 ],
 "metadata": {
  "kernelspec": {
   "display_name": "Python 3 (ipykernel)",
   "language": "python",
   "name": "python3"
  },
  "language_info": {
   "codemirror_mode": {
    "name": "ipython",
    "version": 3
   },
   "file_extension": ".py",
   "mimetype": "text/x-python",
   "name": "python",
   "nbconvert_exporter": "python",
   "pygments_lexer": "ipython3",
   "version": "3.10.8"
  }
 },
 "nbformat": 4,
 "nbformat_minor": 5
}
